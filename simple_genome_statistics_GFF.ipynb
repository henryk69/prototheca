{
 "cells": [
  {
   "cell_type": "code",
   "execution_count": 3,
   "metadata": {},
   "outputs": [
    {
     "name": "stdout",
     "output_type": "stream",
     "text": [
      "Using matplotlib backend: Qt5Agg\n",
      "Populating the interactive namespace from numpy and matplotlib\n"
     ]
    }
   ],
   "source": [
    "import os\n",
    "import sys\n",
    "import re\n",
    "import pandas\n",
    "import numpy as np\n",
    "from functools import reduce\n",
    "from collections import Counter, OrderedDict\n",
    "from Bio import SeqIO"
   ]
  },
  {
   "cell_type": "markdown",
   "metadata": {},
   "source": [
    "# Simple statistics for GFF and fasta files "
   ]
  },
  {
   "cell_type": "code",
   "execution_count": 2,
   "metadata": {
    "collapsed": true
   },
   "outputs": [],
   "source": [
    "# Read GFF files, attach proper fasta sequence\n",
    "scaffolds = dict.fromkeys([i for i in os.listdir(os.getcwd()) if i.endswith('.gff')])\n",
    "for k in scaffolds.keys():\n",
    "    scaffolds[k] = SeqIO.parse(k.replace('.gff', '.fasta'), 'fasta')\n",
    "    \n",
    "full_seqs = {}\n",
    "for k,v in scaffolds.items():\n",
    "    full_seqs[k] = reduce(lambda x, y: x + str(y.seq), v, \"\")\n",
    "    full_seqs[k] = full_seqs[k].upper()\n",
    "\n",
    "# Define couter\n",
    "counts = {}\n",
    "for k,v in full_seqs.items():\n",
    "    counts[k] = dict(Counter([i for i in v]))"
   ]
  },
  {
   "cell_type": "code",
   "execution_count": null,
   "metadata": {},
   "outputs": [],
   "source": [
    "# Count nucleotides in scaffolds\n",
    "for k,v in counts.items():\n",
    "    print(k, v)"
   ]
  },
  {
   "cell_type": "code",
   "execution_count": null,
   "metadata": {},
   "outputs": [],
   "source": [
    "# Genome size (KB)\n",
    "for k,v in full_seqs.items():\n",
    "    print(k, len(v)/1000000)"
   ]
  },
  {
   "cell_type": "code",
   "execution_count": null,
   "metadata": {},
   "outputs": [],
   "source": [
    "# Count genes\n",
    "for k,v in genes.items():\n",
    "    print(k, len(v))"
   ]
  },
  {
   "cell_type": "code",
   "execution_count": null,
   "metadata": {},
   "outputs": [],
   "source": [
    "# Read GFF as dataframe, add headers\n",
    "gffs = {}\n",
    "for i in scaffolds.keys():\n",
    "    print(i)\n",
    "    gffs[i] = pandas.read_csv(i, sep='\\t', header=None)\n",
    "\n",
    "for k,v in gffs.items():\n",
    "    gffs[k].columns = ['scaffold', '1', 'feature', 'start', 'end', '3', 'strand', '4', 'description']\n",
    "\n",
    "# Hash all genes from distinct GFF\n",
    "genes = {}\n",
    "for k,v in gffs.items():\n",
    "    genes[k] = gffs[k][(gffs[k].feature == 'gene')]\n",
    "\n",
    "# Hash all mRNAs from distinct GFF\n",
    "mrnas = {}\n",
    "for k,v in gffs.items():\n",
    "    mrnas[k] = gffs[k][(gffs[k].feature == 'mRNA')]\n"
   ]
  },
  {
   "cell_type": "code",
   "execution_count": null,
   "metadata": {},
   "outputs": [],
   "source": [
    "# Calculate average exon length\n",
    "exons = {}\n",
    "for k,v in gffs.items():\n",
    "    exons[k] = gffs[k][(gffs[k].feature == 'exon')]\n",
    "    \n",
    "exon_lens = {}\n",
    "for k,v in exons.items():\n",
    "    exon_lens[k] = v['end'].values - v['start'].values\n",
    "for k,v in exon_lens.items():\n",
    "    print(k, sum(v)/len(v))\n",
    "\n",
    "# Exons per gene\n",
    "for k in genes.keys():\n",
    "    print(k, len(exons[k])/len(genes[k]))"
   ]
  },
  {
   "cell_type": "markdown",
   "metadata": {},
   "source": [
    "## CDS features"
   ]
  },
  {
   "cell_type": "code",
   "execution_count": null,
   "metadata": {},
   "outputs": [],
   "source": [
    "cdses = {}\n",
    "for k,v in gffs.items():\n",
    "    cdses[k] = gffs[k][(gffs[k].feature == 'CDS')]\n",
    "\n",
    "for k,v in gffs.items():\n",
    "    print(k)\n",
    "    exon_starts, exon_ends = exons[k]['start'].values, exons[k]['end'].values\n",
    "    cds_starts, cds_ends = cdses[k]['start'].values, cdses[k]['end'].values\n",
    "    exon_positions = list(zip(exon_starts, exon_ends))\n",
    "    cds_positions = list(zip(cds_starts, cds_ends))\n",
    "    cds_positions.sort()\n",
    "    exon_positions.sort()\n",
    "    exon_positions = set(exon_positions)\n",
    "    cds_positions = set(cds_positions)\n",
    "\n",
    "\n",
    "exon_starts, exon_ends = exons[k]['start'].values, exons[k]['end'].values\n",
    "cds_starts, cds_ends = cdses[k]['start'].values, cdses[k]['end'].values\n",
    "exon_positions = list(zip(exon_starts, exon_ends))\n",
    "cds_positions = list(zip(cds_starts, cds_ends))\n",
    "cds_positions.sort()\n",
    "exon_positions.sort()\n",
    "exon_positions = set(exon_positions)\n",
    "cds_positions = set(cds_positions)\n",
    "\n",
    "exon_full_seqs = {}\n",
    "for k,v in gffs.items():\n",
    "    exon_full_seqs[k] = ''\n",
    "    positions = zip(exons[k]['start'], exons[k]['end'])\n",
    "    for e in positions:\n",
    "        exon_full_seqs[k] += full_seqs[k][int(e[0])-1:int(e[1])]"
   ]
  },
  {
   "cell_type": "code",
   "execution_count": null,
   "metadata": {},
   "outputs": [],
   "source": [
    "# extract intron positions from CDS\n",
    "cds_positions = {}\n",
    "for k,v in gffs.items():\n",
    "    current_cds_positions = {}\n",
    "    for i in gffs[k].iterrows():\n",
    "        feature = i[1]\n",
    "        if feature[2] == 'gene':\n",
    "            current_gene = (int(feature[3]), int(feature[4]))\n",
    "            current_cds_positions[current_gene] = []\n",
    "        elif feature[2] == 'exon':\n",
    "            current_cds_positions[current_gene].append((int(feature[3]), int(feature[4])))\n",
    "    cds_positions[k] = current_cds_positions\n",
    "\n",
    "intron_positions = {}\n",
    "genes_with_introns = {}\n",
    "for k,v in cds_positions.items():\n",
    "    intron_positions[k] = []\n",
    "    genes_with_introns[k] = 0\n",
    "    for gene, cdses in v.items():\n",
    "        current_intron_positions = []\n",
    "        last_position = gene[0]\n",
    "        for i in sorted(cdses):\n",
    "            if i[0] > last_position:\n",
    "                current_intron_positions.append((last_position, i[0]))\n",
    "            last_position = i[1]\n",
    "        if gene[1] > last_position and last_position != gene[0]:\n",
    "            current_intron_positions.append((last_position, gene[1]))\n",
    "        if len(current_intron_positions) > 0:\n",
    "            genes_with_introns[k] += 1\n",
    "        intron_positions[k].extend(current_intron_positions)"
   ]
  },
  {
   "cell_type": "code",
   "execution_count": null,
   "metadata": {},
   "outputs": [],
   "source": [
    "# Intron length\n",
    "intron_lens = {}\n",
    "for k,v in intron_positions.items():\n",
    "    intron_lens[k] = []\n",
    "    for i in v:\n",
    "        intron_lens[k].append(i[1]-i[0])\n",
    "\n",
    "for k,v in intron_lens.items():\n",
    "    print(k, sum(v)/len(v))\n",
    "    \n",
    "# Introns per gene\n",
    "for k in genes.keys():\n",
    "    print(k, len(intron[k])/len(genes[k]))   "
   ]
  },
  {
   "cell_type": "markdown",
   "metadata": {},
   "source": [
    "# Define genomic features "
   ]
  },
  {
   "cell_type": "code",
   "execution_count": 140,
   "metadata": {
    "collapsed": true
   },
   "outputs": [],
   "source": [
    "scaffold_seqs = {}\n",
    "for k in scaffolds.keys():\n",
    "    scaffolds[k] = SeqIO.parse(k.replace('.gff', '.fasta'), 'fasta')\n",
    "for k, v in scaffolds.items():\n",
    "    scaffold_seqs[k] = dict([(i.id, str(i.seq).upper()) for i in v])"
   ]
  },
  {
   "cell_type": "code",
   "execution_count": 161,
   "metadata": {
    "collapsed": true
   },
   "outputs": [],
   "source": [
    "exon_positions = {}\n",
    "gene_positions = {}\n",
    "for k in scaffolds.keys():\n",
    "    exon_positions[k] = exons[k][['scaffold', 'start', 'end']]\n",
    "    gene_positions[k] = genes[k][['scaffold', 'start', 'end']]"
   ]
  },
  {
   "cell_type": "code",
   "execution_count": 206,
   "metadata": {
    "collapsed": true
   },
   "outputs": [],
   "source": [
    "atcg_counts = {}\n",
    "atcg_counts_introns = {}\n",
    "atcg_counts_exons = {}\n",
    "atcg_counts_intergenic = {}\n",
    "for k, v in scaffold_seqs.items():\n",
    "    atcg_counts[k] = {'A': 0, 'T': 0, 'G': 0, 'C': 0}\n",
    "    atcg_counts_introns[k] = {'A': 0, 'T': 0, 'G': 0, 'C': 0}\n",
    "    atcg_counts_exons[k] = {'A': 0, 'T': 0, 'G': 0, 'C': 0}\n",
    "    atcg_counts_intergenic[k] = {'A': 0, 'T': 0, 'G': 0, 'C': 0}"
   ]
  },
  {
   "cell_type": "code",
   "execution_count": null,
   "metadata": {
    "scrolled": true
   },
   "outputs": [],
   "source": [
    "for k, v in scaffold_seqs.items():\n",
    "    print(k)\n",
    "    if k in ('Protothecka wickerhamii.gff', 'Helicosporidium sp.gff'):\n",
    "        continue\n",
    "    for scaffold_id, seq in v.items():\n",
    "        print(scaffold_id)\n",
    "        for i in enumerate(seq):\n",
    "            if i[1] not in ('A', 'T', 'C', 'G'):\n",
    "                continue\n",
    "            if sum((exon_positions[k]['scaffold'] == scaffold_id) & (exon_positions[k]['start'] <= i[0]+1) & (exon_positions[k]['end'] >= i[0]+1)):\n",
    "                atcg_counts_exons[k][i[1]] += 1\n",
    "            elif sum((gene_positions[k]['scaffold'] == scaffold_id) & (gene_positions[k]['start'] <= i[0]+1) & (gene_positions[k]['end'] >= i[0]+1)):\n",
    "                atcg_counts_introns[k][i[1]] += 1\n",
    "            else:\n",
    "                atcg_counts_intergenic[k][i[1]] += 1\n",
    "            atcg_counts[k][i[1]] += 1"
   ]
  },
  {
   "cell_type": "markdown",
   "metadata": {},
   "source": [
    "# Exon features"
   ]
  },
  {
   "cell_type": "code",
   "execution_count": 282,
   "metadata": {
    "collapsed": true
   },
   "outputs": [],
   "source": [
    "#Exon counts\n",
    "atcg_counts_exon = {}\n",
    "for k, v in scaffold_seqs.items():\n",
    "    full_seq_feat = ''\n",
    "    for exon in exon_positions[k].iterrows():\n",
    "        full_seq_feat += scaffold_seqs[k][exon[1]['scaffold']][int(exon[1]['start'])-1:int(exon[1]['end'])]\n",
    "    atcg_counts_exon[k] = dict(Counter(full_seq_feat))"
   ]
  },
  {
   "cell_type": "markdown",
   "metadata": {
    "collapsed": true
   },
   "source": [
    "# Intergenomic features"
   ]
  },
  {
   "cell_type": "code",
   "execution_count": 242,
   "metadata": {
    "collapsed": true
   },
   "outputs": [],
   "source": [
    "# Intergenic regions\n",
    "atcg_counts_intergenic = {}\n",
    "for k in scaffold_seqs.keys():\n",
    "    atcg_counts_intergenic[k] = {}\n",
    "    for i in 'ATCG':\n",
    "        atcg_counts_intergenic[k][i] = atcg_counts[k][i] - atcg_counts_gene[k][i]"
   ]
  },
  {
   "cell_type": "markdown",
   "metadata": {},
   "source": [
    "# Intron features"
   ]
  },
  {
   "cell_type": "code",
   "execution_count": 244,
   "metadata": {
    "collapsed": true
   },
   "outputs": [],
   "source": [
    "# Intron counts\n",
    "atcg_counts_intron = {}\n",
    "for k in scaffold_seqs.keys():\n",
    "    atcg_counts_intron[k] = {}\n",
    "    for i in 'ATCG':\n",
    "        atcg_counts_intron[k][i] = atcg_counts_gene[k][i] - atcg_counts_exon[k][i]"
   ]
  },
  {
   "cell_type": "markdown",
   "metadata": {},
   "source": [
    "# GC content"
   ]
  },
  {
   "cell_type": "code",
   "execution_count": null,
   "metadata": {},
   "outputs": [],
   "source": [
    "# %GC content total\n",
    "for k, v in atcg_counts.items():\n",
    "    print(k, (v['G'] + v['C']) / sum([v['G'], v['C'], v['A'], v['T']]) * 100)"
   ]
  },
  {
   "cell_type": "code",
   "execution_count": null,
   "metadata": {
    "scrolled": true
   },
   "outputs": [],
   "source": [
    "# %GC content in exons\n",
    "for k, v in atcg_counts_exon.items():\n",
    "    print(k, (v['G'] + v['C']) / sum([v['G'], v['C'], v['A'], v['T']]) * 100)"
   ]
  },
  {
   "cell_type": "code",
   "execution_count": null,
   "metadata": {},
   "outputs": [],
   "source": [
    "# %GC content in introns\n",
    "for k, v in atcg_counts_intron.items():\n",
    "    print(k, (v['G'] + v['C']) / sum([v['G'], v['C'], v['A'], v['T']]) * 100)"
   ]
  },
  {
   "cell_type": "code",
   "execution_count": null,
   "metadata": {
    "scrolled": true
   },
   "outputs": [],
   "source": [
    "# %GC content in intergenic regions\n",
    "for k, v in atcg_counts_intergenic.items():\n",
    "    print(k, (v['G'] + v['C']) / sum([v['G'], v['C'], v['A'], v['T']]) * 100)"
   ]
  }
 ],
 "metadata": {
  "anaconda-cloud": {},
  "kernelspec": {
   "display_name": "Python 3",
   "language": "python",
   "name": "python3"
  },
  "language_info": {
   "codemirror_mode": {
    "name": "ipython",
    "version": 3
   },
   "file_extension": ".py",
   "mimetype": "text/x-python",
   "name": "python",
   "nbconvert_exporter": "python",
   "pygments_lexer": "ipython3",
   "version": "3.7.3"
  }
 },
 "nbformat": 4,
 "nbformat_minor": 2
}
